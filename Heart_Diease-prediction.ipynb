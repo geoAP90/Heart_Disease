{
 "cells": [
  {
   "cell_type": "code",
   "execution_count": 1,
   "id": "a4d1b581",
   "metadata": {},
   "outputs": [],
   "source": [
    "import numpy as np\n",
    "import pandas as pd\n",
    "import matplotlib.pyplot as plt\n",
    "import seaborn as sns"
   ]
  },
  {
   "cell_type": "code",
   "execution_count": 14,
   "id": "ca935642",
   "metadata": {},
   "outputs": [],
   "source": [
    "Heart_disease_df = pd.read_csv('framingham.csv')"
   ]
  },
  {
   "cell_type": "code",
   "execution_count": 16,
   "id": "deb8da08",
   "metadata": {},
   "outputs": [
    {
     "data": {
      "text/html": [
       "<div>\n",
       "<style scoped>\n",
       "    .dataframe tbody tr th:only-of-type {\n",
       "        vertical-align: middle;\n",
       "    }\n",
       "\n",
       "    .dataframe tbody tr th {\n",
       "        vertical-align: top;\n",
       "    }\n",
       "\n",
       "    .dataframe thead th {\n",
       "        text-align: right;\n",
       "    }\n",
       "</style>\n",
       "<table border=\"1\" class=\"dataframe\">\n",
       "  <thead>\n",
       "    <tr style=\"text-align: right;\">\n",
       "      <th></th>\n",
       "      <th>male</th>\n",
       "      <th>age</th>\n",
       "      <th>education</th>\n",
       "      <th>currentSmoker</th>\n",
       "      <th>cigsPerDay</th>\n",
       "      <th>BPMeds</th>\n",
       "      <th>prevalentStroke</th>\n",
       "      <th>prevalentHyp</th>\n",
       "      <th>diabetes</th>\n",
       "      <th>totChol</th>\n",
       "      <th>sysBP</th>\n",
       "      <th>diaBP</th>\n",
       "      <th>BMI</th>\n",
       "      <th>heartRate</th>\n",
       "      <th>glucose</th>\n",
       "      <th>TenYearCHD</th>\n",
       "    </tr>\n",
       "  </thead>\n",
       "  <tbody>\n",
       "    <tr>\n",
       "      <th>0</th>\n",
       "      <td>1</td>\n",
       "      <td>39</td>\n",
       "      <td>4.0</td>\n",
       "      <td>0</td>\n",
       "      <td>0.0</td>\n",
       "      <td>0.0</td>\n",
       "      <td>0</td>\n",
       "      <td>0</td>\n",
       "      <td>0</td>\n",
       "      <td>195.0</td>\n",
       "      <td>106.0</td>\n",
       "      <td>70.0</td>\n",
       "      <td>26.97</td>\n",
       "      <td>80.0</td>\n",
       "      <td>77.0</td>\n",
       "      <td>0</td>\n",
       "    </tr>\n",
       "    <tr>\n",
       "      <th>1</th>\n",
       "      <td>0</td>\n",
       "      <td>46</td>\n",
       "      <td>2.0</td>\n",
       "      <td>0</td>\n",
       "      <td>0.0</td>\n",
       "      <td>0.0</td>\n",
       "      <td>0</td>\n",
       "      <td>0</td>\n",
       "      <td>0</td>\n",
       "      <td>250.0</td>\n",
       "      <td>121.0</td>\n",
       "      <td>81.0</td>\n",
       "      <td>28.73</td>\n",
       "      <td>95.0</td>\n",
       "      <td>76.0</td>\n",
       "      <td>0</td>\n",
       "    </tr>\n",
       "    <tr>\n",
       "      <th>2</th>\n",
       "      <td>1</td>\n",
       "      <td>48</td>\n",
       "      <td>1.0</td>\n",
       "      <td>1</td>\n",
       "      <td>20.0</td>\n",
       "      <td>0.0</td>\n",
       "      <td>0</td>\n",
       "      <td>0</td>\n",
       "      <td>0</td>\n",
       "      <td>245.0</td>\n",
       "      <td>127.5</td>\n",
       "      <td>80.0</td>\n",
       "      <td>25.34</td>\n",
       "      <td>75.0</td>\n",
       "      <td>70.0</td>\n",
       "      <td>0</td>\n",
       "    </tr>\n",
       "    <tr>\n",
       "      <th>3</th>\n",
       "      <td>0</td>\n",
       "      <td>61</td>\n",
       "      <td>3.0</td>\n",
       "      <td>1</td>\n",
       "      <td>30.0</td>\n",
       "      <td>0.0</td>\n",
       "      <td>0</td>\n",
       "      <td>1</td>\n",
       "      <td>0</td>\n",
       "      <td>225.0</td>\n",
       "      <td>150.0</td>\n",
       "      <td>95.0</td>\n",
       "      <td>28.58</td>\n",
       "      <td>65.0</td>\n",
       "      <td>103.0</td>\n",
       "      <td>1</td>\n",
       "    </tr>\n",
       "    <tr>\n",
       "      <th>4</th>\n",
       "      <td>0</td>\n",
       "      <td>46</td>\n",
       "      <td>3.0</td>\n",
       "      <td>1</td>\n",
       "      <td>23.0</td>\n",
       "      <td>0.0</td>\n",
       "      <td>0</td>\n",
       "      <td>0</td>\n",
       "      <td>0</td>\n",
       "      <td>285.0</td>\n",
       "      <td>130.0</td>\n",
       "      <td>84.0</td>\n",
       "      <td>23.10</td>\n",
       "      <td>85.0</td>\n",
       "      <td>85.0</td>\n",
       "      <td>0</td>\n",
       "    </tr>\n",
       "  </tbody>\n",
       "</table>\n",
       "</div>"
      ],
      "text/plain": [
       "   male  age  education  currentSmoker  cigsPerDay  BPMeds  prevalentStroke  \\\n",
       "0     1   39        4.0              0         0.0     0.0                0   \n",
       "1     0   46        2.0              0         0.0     0.0                0   \n",
       "2     1   48        1.0              1        20.0     0.0                0   \n",
       "3     0   61        3.0              1        30.0     0.0                0   \n",
       "4     0   46        3.0              1        23.0     0.0                0   \n",
       "\n",
       "   prevalentHyp  diabetes  totChol  sysBP  diaBP    BMI  heartRate  glucose  \\\n",
       "0             0         0    195.0  106.0   70.0  26.97       80.0     77.0   \n",
       "1             0         0    250.0  121.0   81.0  28.73       95.0     76.0   \n",
       "2             0         0    245.0  127.5   80.0  25.34       75.0     70.0   \n",
       "3             1         0    225.0  150.0   95.0  28.58       65.0    103.0   \n",
       "4             0         0    285.0  130.0   84.0  23.10       85.0     85.0   \n",
       "\n",
       "   TenYearCHD  \n",
       "0           0  \n",
       "1           0  \n",
       "2           0  \n",
       "3           1  \n",
       "4           0  "
      ]
     },
     "execution_count": 16,
     "metadata": {},
     "output_type": "execute_result"
    }
   ],
   "source": [
    "Heart_disease_df.head()"
   ]
  },
  {
   "cell_type": "code",
   "execution_count": 17,
   "id": "6886e2e9",
   "metadata": {},
   "outputs": [
    {
     "data": {
      "text/html": [
       "<div>\n",
       "<style scoped>\n",
       "    .dataframe tbody tr th:only-of-type {\n",
       "        vertical-align: middle;\n",
       "    }\n",
       "\n",
       "    .dataframe tbody tr th {\n",
       "        vertical-align: top;\n",
       "    }\n",
       "\n",
       "    .dataframe thead th {\n",
       "        text-align: right;\n",
       "    }\n",
       "</style>\n",
       "<table border=\"1\" class=\"dataframe\">\n",
       "  <thead>\n",
       "    <tr style=\"text-align: right;\">\n",
       "      <th></th>\n",
       "      <th>male</th>\n",
       "      <th>age</th>\n",
       "      <th>education</th>\n",
       "      <th>currentSmoker</th>\n",
       "      <th>cigsPerDay</th>\n",
       "      <th>BPMeds</th>\n",
       "      <th>prevalentStroke</th>\n",
       "      <th>prevalentHyp</th>\n",
       "      <th>diabetes</th>\n",
       "      <th>totChol</th>\n",
       "      <th>sysBP</th>\n",
       "      <th>diaBP</th>\n",
       "      <th>BMI</th>\n",
       "      <th>heartRate</th>\n",
       "      <th>glucose</th>\n",
       "      <th>TenYearCHD</th>\n",
       "    </tr>\n",
       "  </thead>\n",
       "  <tbody>\n",
       "    <tr>\n",
       "      <th>0</th>\n",
       "      <td>1</td>\n",
       "      <td>39</td>\n",
       "      <td>4.0</td>\n",
       "      <td>0</td>\n",
       "      <td>0.0</td>\n",
       "      <td>0.0</td>\n",
       "      <td>0</td>\n",
       "      <td>0</td>\n",
       "      <td>0</td>\n",
       "      <td>195.0</td>\n",
       "      <td>106.0</td>\n",
       "      <td>70.0</td>\n",
       "      <td>26.97</td>\n",
       "      <td>80.0</td>\n",
       "      <td>77.0</td>\n",
       "      <td>0</td>\n",
       "    </tr>\n",
       "    <tr>\n",
       "      <th>1</th>\n",
       "      <td>0</td>\n",
       "      <td>46</td>\n",
       "      <td>2.0</td>\n",
       "      <td>0</td>\n",
       "      <td>0.0</td>\n",
       "      <td>0.0</td>\n",
       "      <td>0</td>\n",
       "      <td>0</td>\n",
       "      <td>0</td>\n",
       "      <td>250.0</td>\n",
       "      <td>121.0</td>\n",
       "      <td>81.0</td>\n",
       "      <td>28.73</td>\n",
       "      <td>95.0</td>\n",
       "      <td>76.0</td>\n",
       "      <td>0</td>\n",
       "    </tr>\n",
       "    <tr>\n",
       "      <th>2</th>\n",
       "      <td>1</td>\n",
       "      <td>48</td>\n",
       "      <td>1.0</td>\n",
       "      <td>1</td>\n",
       "      <td>20.0</td>\n",
       "      <td>0.0</td>\n",
       "      <td>0</td>\n",
       "      <td>0</td>\n",
       "      <td>0</td>\n",
       "      <td>245.0</td>\n",
       "      <td>127.5</td>\n",
       "      <td>80.0</td>\n",
       "      <td>25.34</td>\n",
       "      <td>75.0</td>\n",
       "      <td>70.0</td>\n",
       "      <td>0</td>\n",
       "    </tr>\n",
       "    <tr>\n",
       "      <th>3</th>\n",
       "      <td>0</td>\n",
       "      <td>61</td>\n",
       "      <td>3.0</td>\n",
       "      <td>1</td>\n",
       "      <td>30.0</td>\n",
       "      <td>0.0</td>\n",
       "      <td>0</td>\n",
       "      <td>1</td>\n",
       "      <td>0</td>\n",
       "      <td>225.0</td>\n",
       "      <td>150.0</td>\n",
       "      <td>95.0</td>\n",
       "      <td>28.58</td>\n",
       "      <td>65.0</td>\n",
       "      <td>103.0</td>\n",
       "      <td>1</td>\n",
       "    </tr>\n",
       "    <tr>\n",
       "      <th>4</th>\n",
       "      <td>0</td>\n",
       "      <td>46</td>\n",
       "      <td>3.0</td>\n",
       "      <td>1</td>\n",
       "      <td>23.0</td>\n",
       "      <td>0.0</td>\n",
       "      <td>0</td>\n",
       "      <td>0</td>\n",
       "      <td>0</td>\n",
       "      <td>285.0</td>\n",
       "      <td>130.0</td>\n",
       "      <td>84.0</td>\n",
       "      <td>23.10</td>\n",
       "      <td>85.0</td>\n",
       "      <td>85.0</td>\n",
       "      <td>0</td>\n",
       "    </tr>\n",
       "    <tr>\n",
       "      <th>...</th>\n",
       "      <td>...</td>\n",
       "      <td>...</td>\n",
       "      <td>...</td>\n",
       "      <td>...</td>\n",
       "      <td>...</td>\n",
       "      <td>...</td>\n",
       "      <td>...</td>\n",
       "      <td>...</td>\n",
       "      <td>...</td>\n",
       "      <td>...</td>\n",
       "      <td>...</td>\n",
       "      <td>...</td>\n",
       "      <td>...</td>\n",
       "      <td>...</td>\n",
       "      <td>...</td>\n",
       "      <td>...</td>\n",
       "    </tr>\n",
       "    <tr>\n",
       "      <th>4233</th>\n",
       "      <td>1</td>\n",
       "      <td>50</td>\n",
       "      <td>1.0</td>\n",
       "      <td>1</td>\n",
       "      <td>1.0</td>\n",
       "      <td>0.0</td>\n",
       "      <td>0</td>\n",
       "      <td>1</td>\n",
       "      <td>0</td>\n",
       "      <td>313.0</td>\n",
       "      <td>179.0</td>\n",
       "      <td>92.0</td>\n",
       "      <td>25.97</td>\n",
       "      <td>66.0</td>\n",
       "      <td>86.0</td>\n",
       "      <td>1</td>\n",
       "    </tr>\n",
       "    <tr>\n",
       "      <th>4234</th>\n",
       "      <td>1</td>\n",
       "      <td>51</td>\n",
       "      <td>3.0</td>\n",
       "      <td>1</td>\n",
       "      <td>43.0</td>\n",
       "      <td>0.0</td>\n",
       "      <td>0</td>\n",
       "      <td>0</td>\n",
       "      <td>0</td>\n",
       "      <td>207.0</td>\n",
       "      <td>126.5</td>\n",
       "      <td>80.0</td>\n",
       "      <td>19.71</td>\n",
       "      <td>65.0</td>\n",
       "      <td>68.0</td>\n",
       "      <td>0</td>\n",
       "    </tr>\n",
       "    <tr>\n",
       "      <th>4235</th>\n",
       "      <td>0</td>\n",
       "      <td>48</td>\n",
       "      <td>2.0</td>\n",
       "      <td>1</td>\n",
       "      <td>20.0</td>\n",
       "      <td>NaN</td>\n",
       "      <td>0</td>\n",
       "      <td>0</td>\n",
       "      <td>0</td>\n",
       "      <td>248.0</td>\n",
       "      <td>131.0</td>\n",
       "      <td>72.0</td>\n",
       "      <td>22.00</td>\n",
       "      <td>84.0</td>\n",
       "      <td>86.0</td>\n",
       "      <td>0</td>\n",
       "    </tr>\n",
       "    <tr>\n",
       "      <th>4236</th>\n",
       "      <td>0</td>\n",
       "      <td>44</td>\n",
       "      <td>1.0</td>\n",
       "      <td>1</td>\n",
       "      <td>15.0</td>\n",
       "      <td>0.0</td>\n",
       "      <td>0</td>\n",
       "      <td>0</td>\n",
       "      <td>0</td>\n",
       "      <td>210.0</td>\n",
       "      <td>126.5</td>\n",
       "      <td>87.0</td>\n",
       "      <td>19.16</td>\n",
       "      <td>86.0</td>\n",
       "      <td>NaN</td>\n",
       "      <td>0</td>\n",
       "    </tr>\n",
       "    <tr>\n",
       "      <th>4237</th>\n",
       "      <td>0</td>\n",
       "      <td>52</td>\n",
       "      <td>2.0</td>\n",
       "      <td>0</td>\n",
       "      <td>0.0</td>\n",
       "      <td>0.0</td>\n",
       "      <td>0</td>\n",
       "      <td>0</td>\n",
       "      <td>0</td>\n",
       "      <td>269.0</td>\n",
       "      <td>133.5</td>\n",
       "      <td>83.0</td>\n",
       "      <td>21.47</td>\n",
       "      <td>80.0</td>\n",
       "      <td>107.0</td>\n",
       "      <td>0</td>\n",
       "    </tr>\n",
       "  </tbody>\n",
       "</table>\n",
       "<p>4238 rows × 16 columns</p>\n",
       "</div>"
      ],
      "text/plain": [
       "      male  age  education  currentSmoker  cigsPerDay  BPMeds  \\\n",
       "0        1   39        4.0              0         0.0     0.0   \n",
       "1        0   46        2.0              0         0.0     0.0   \n",
       "2        1   48        1.0              1        20.0     0.0   \n",
       "3        0   61        3.0              1        30.0     0.0   \n",
       "4        0   46        3.0              1        23.0     0.0   \n",
       "...    ...  ...        ...            ...         ...     ...   \n",
       "4233     1   50        1.0              1         1.0     0.0   \n",
       "4234     1   51        3.0              1        43.0     0.0   \n",
       "4235     0   48        2.0              1        20.0     NaN   \n",
       "4236     0   44        1.0              1        15.0     0.0   \n",
       "4237     0   52        2.0              0         0.0     0.0   \n",
       "\n",
       "      prevalentStroke  prevalentHyp  diabetes  totChol  sysBP  diaBP    BMI  \\\n",
       "0                   0             0         0    195.0  106.0   70.0  26.97   \n",
       "1                   0             0         0    250.0  121.0   81.0  28.73   \n",
       "2                   0             0         0    245.0  127.5   80.0  25.34   \n",
       "3                   0             1         0    225.0  150.0   95.0  28.58   \n",
       "4                   0             0         0    285.0  130.0   84.0  23.10   \n",
       "...               ...           ...       ...      ...    ...    ...    ...   \n",
       "4233                0             1         0    313.0  179.0   92.0  25.97   \n",
       "4234                0             0         0    207.0  126.5   80.0  19.71   \n",
       "4235                0             0         0    248.0  131.0   72.0  22.00   \n",
       "4236                0             0         0    210.0  126.5   87.0  19.16   \n",
       "4237                0             0         0    269.0  133.5   83.0  21.47   \n",
       "\n",
       "      heartRate  glucose  TenYearCHD  \n",
       "0          80.0     77.0           0  \n",
       "1          95.0     76.0           0  \n",
       "2          75.0     70.0           0  \n",
       "3          65.0    103.0           1  \n",
       "4          85.0     85.0           0  \n",
       "...         ...      ...         ...  \n",
       "4233       66.0     86.0           1  \n",
       "4234       65.0     68.0           0  \n",
       "4235       84.0     86.0           0  \n",
       "4236       86.0      NaN           0  \n",
       "4237       80.0    107.0           0  \n",
       "\n",
       "[4238 rows x 16 columns]"
      ]
     },
     "metadata": {},
     "output_type": "display_data"
    }
   ],
   "source": [
    "display(Heart_disease_df)"
   ]
  },
  {
   "cell_type": "code",
   "execution_count": 20,
   "id": "9040afb5",
   "metadata": {},
   "outputs": [
    {
     "data": {
      "text/plain": [
       "Index(['male', 'age', 'education', 'currentSmoker', 'cigsPerDay', 'BPMeds',\n",
       "       'prevalentStroke', 'prevalentHyp', 'diabetes', 'totChol', 'sysBP',\n",
       "       'diaBP', 'BMI', 'heartRate', 'glucose', 'TenYearCHD'],\n",
       "      dtype='object')"
      ]
     },
     "execution_count": 20,
     "metadata": {},
     "output_type": "execute_result"
    }
   ],
   "source": [
    "Heart_disease_df.columns"
   ]
  },
  {
   "cell_type": "code",
   "execution_count": 21,
   "id": "6b6e2103",
   "metadata": {},
   "outputs": [
    {
     "data": {
      "text/plain": [
       "(4238, 16)"
      ]
     },
     "execution_count": 21,
     "metadata": {},
     "output_type": "execute_result"
    }
   ],
   "source": [
    "Heart_disease_df.shape"
   ]
  },
  {
   "cell_type": "markdown",
   "id": "941938e9",
   "metadata": {},
   "source": [
    "# Data Wrangling"
   ]
  },
  {
   "cell_type": "code",
   "execution_count": 24,
   "id": "5190f8d5",
   "metadata": {},
   "outputs": [
    {
     "data": {
      "text/plain": [
       "male                 0\n",
       "age                  0\n",
       "education          105\n",
       "currentSmoker        0\n",
       "cigsPerDay          29\n",
       "BPMeds              53\n",
       "prevalentStroke      0\n",
       "prevalentHyp         0\n",
       "diabetes             0\n",
       "totChol             50\n",
       "sysBP                0\n",
       "diaBP                0\n",
       "BMI                 19\n",
       "heartRate            1\n",
       "glucose            388\n",
       "TenYearCHD           0\n",
       "dtype: int64"
      ]
     },
     "execution_count": 24,
     "metadata": {},
     "output_type": "execute_result"
    }
   ],
   "source": [
    "# Count of missing values\n",
    "Heart_disease_df.isnull().sum()"
   ]
  },
  {
   "cell_type": "markdown",
   "id": "d980a1bd",
   "metadata": {},
   "source": [
    "# EDA - Exploratory Data Analysis \n"
   ]
  },
  {
   "cell_type": "code",
   "execution_count": 41,
   "id": "92064196",
   "metadata": {},
   "outputs": [
    {
     "data": {
      "image/png": "[encoded data removed]",
      "text/plain": [
       "<Figure size 504x504 with 1 Axes>"
      ]
     },
     "metadata": {
      "needs_background": "light"
     },
     "output_type": "display_data"
    }
   ],
   "source": [
    "plt.figure(figsize = (7,7))\n",
    "fig = sns.countplot(x = 'currentSmoker', data = Heart_disease_df, palette='plasma')\n",
    "sizes = []\n",
    "for p in fig.patches:\n",
    "    height = p.get_height()\n",
    "    sizes.append(height)\n",
    "    fig.text(p.get_x() + p.get_width()/2, height + 12, \n",
    "             '{:1.2f}%'.format(height/len(Heart_disease_df)* 100), ha = 'center', fontsize = 9)"
   ]
  },
  {
   "cell_type": "code",
   "execution_count": 34,
   "id": "01d6131c",
   "metadata": {},
   "outputs": [
    {
     "data": {
      "image/png": "[encoded data removed]",
      "text/plain": [
       "<Figure size 504x504 with 1 Axes>"
      ]
     },
     "metadata": {
      "needs_background": "light"
     },
     "output_type": "display_data"
    }
   ],
   "source": [
    "plt.figure(figsize = (7,7))\n",
    "fig = sns.countplot(x = 'male', data = Heart_disease_df)\n",
    "sizes = []\n",
    "for p in fig.patches:\n",
    "    height = p.get_height()\n",
    "    sizes.append(height)\n",
    "    fig.text(p.get_x() + p.get_width()/2, height + 12, \n",
    "             '{:1.2f}%'.format(height/len(Heart_disease_df)* 100), ha = 'center', fontsize = 9)"
   ]
  },
  {
   "cell_type": "code",
   "execution_count": 33,
   "id": "6dc11c14",
   "metadata": {},
   "outputs": [
    {
     "data": {
      "image/png": "[encoded data removed]",
      "text/plain": [
       "<Figure size 504x504 with 1 Axes>"
      ]
     },
     "metadata": {
      "needs_background": "light"
     },
     "output_type": "display_data"
    }
   ],
   "source": [
    "plt.figure(figsize = (7,7))\n",
    "fig = sns.countplot(x = 'prevalentHyp', data = Heart_disease_df)\n",
    "sizes = []\n",
    "for p in fig.patches:\n",
    "    height = p.get_height()\n",
    "    sizes.append(height)\n",
    "    fig.text(p.get_x() + p.get_width()/2, height + 12, \n",
    "             '{:1.2f}%'.format(height/len(Heart_disease_df)* 100), ha = 'center', fontsize = 9)"
   ]
  },
  {
   "cell_type": "code",
   "execution_count": 32,
   "id": "a9d79c95",
   "metadata": {},
   "outputs": [
    {
     "data": {
      "image/png": "[encoded data removed]",
      "text/plain": [
       "<Figure size 504x504 with 1 Axes>"
      ]
     },
     "metadata": {
      "needs_background": "light"
     },
     "output_type": "display_data"
    }
   ],
   "source": [
    "plt.figure(figsize = (7,7))\n",
    "fig = sns.countplot(x = 'prevalentStroke', data = Heart_disease_df)\n",
    "sizes = []\n",
    "for p in fig.patches:\n",
    "    height = p.get_height()\n",
    "    sizes.append(height)\n",
    "    fig.text(p.get_x() + p.get_width()/2, height + 12, \n",
    "             '{:1.2f}%'.format(height/len(Heart_disease_df)* 100), ha = 'center', fontsize = 9)"
   ]
  },
  {
   "cell_type": "code",
   "execution_count": 37,
   "id": "9ecd8645",
   "metadata": {},
   "outputs": [
    {
     "name": "stderr",
     "output_type": "stream",
     "text": [
      "C:\\Users\\hp\\anaconda3\\lib\\site-packages\\seaborn\\_decorators.py:36: FutureWarning: Pass the following variable as a keyword arg: x. From version 0.12, the only valid positional argument will be `data`, and passing other arguments without an explicit keyword will result in an error or misinterpretation.\n",
      "  warnings.warn(\n"
     ]
    },
    {
     "data": {
      "image/png": "[encoded data removed]",
      "text/plain": [
       "<Figure size 432x288 with 1 Axes>"
      ]
     },
     "metadata": {
      "needs_background": "light"
     },
     "output_type": "display_data"
    }
   ],
   "source": [
    "sns.countplot(Heart_disease_df['TenYearCHD'],hue=Heart_disease_df['TenYearCHD'])\n",
    "plt.show()"
   ]
  },
  {
   "cell_type": "code",
   "execution_count": 39,
   "id": "eaacff6e",
   "metadata": {},
   "outputs": [
    {
     "data": {
      "text/plain": [
       "<seaborn.axisgrid.FacetGrid at 0x1fb763b4ac0>"
      ]
     },
     "execution_count": 39,
     "metadata": {},
     "output_type": "execute_result"
    },
    {
     "data": {
      "image/png": "[encoded data removed]",
      "text/plain": [
       "<Figure size 402.375x360 with 1 Axes>"
      ]
     },
     "metadata": {
      "needs_background": "light"
     },
     "output_type": "display_data"
    }
   ],
   "source": [
    "# Most of the patients are Feamle \n",
    "sns.catplot(x = 'TenYearCHD', kind = 'count', hue = 'male', data = Heart_disease_df, palette = 'viridis')"
   ]
  },
  {
   "cell_type": "code",
   "execution_count": 40,
   "id": "50976a16",
   "metadata": {},
   "outputs": [
    {
     "data": {
      "text/plain": [
       "<seaborn.axisgrid.FacetGrid at 0x1fb77c23250>"
      ]
     },
     "execution_count": 40,
     "metadata": {},
     "output_type": "execute_result"
    },
    {
     "data": {
      "image/png": "[encoded data removed]",
      "text/plain": [
       "<Figure size 441.625x360 with 1 Axes>"
      ]
     },
     "metadata": {
      "needs_background": "light"
     },
     "output_type": "display_data"
    }
   ],
   "source": [
    "sns.catplot(x = 'TenYearCHD', kind = 'count', hue = 'currentSmoker', data = Heart_disease_df, palette = 'plasma')"
   ]
  },
  {
   "cell_type": "markdown",
   "id": "341f7af8",
   "metadata": {},
   "source": [
    "# Handling Missing Values\n"
   ]
  },
  {
   "cell_type": "code",
   "execution_count": 64,
   "id": "58286cdd",
   "metadata": {},
   "outputs": [],
   "source": [
    "Heart_disease_df['glucose'].replace(np.nan, Heart_disease_df['glucose'].mean(), inplace = True)"
   ]
  },
  {
   "cell_type": "code",
   "execution_count": 66,
   "id": "f99dcced",
   "metadata": {},
   "outputs": [],
   "source": [
    "Heart_disease_df['heartRate'].replace(np.nan, Heart_disease_df['heartRate'].mean(), inplace = True)"
   ]
  },
  {
   "cell_type": "code",
   "execution_count": 67,
   "id": "eb97f5c4",
   "metadata": {},
   "outputs": [],
   "source": [
    "Heart_disease_df['BMI'].replace(np.nan, Heart_disease_df['BMI'].mean(), inplace = True)"
   ]
  },
  {
   "cell_type": "code",
   "execution_count": 68,
   "id": "f380fdf3",
   "metadata": {},
   "outputs": [],
   "source": [
    "Heart_disease_df['totChol'].replace(np.nan, Heart_disease_df['totChol'].mean(), inplace = True)"
   ]
  },
  {
   "cell_type": "code",
   "execution_count": 69,
   "id": "32e154ce",
   "metadata": {},
   "outputs": [],
   "source": [
    "Heart_disease_df['BPMeds'].replace(np.nan, Heart_disease_df['BPMeds'].mean(), inplace = True)"
   ]
  },
  {
   "cell_type": "code",
   "execution_count": 70,
   "id": "101a31a5",
   "metadata": {},
   "outputs": [],
   "source": [
    "Heart_disease_df['cigsPerDay'].replace(np.nan, Heart_disease_df['cigsPerDay'].mean(), inplace = True)"
   ]
  },
  {
   "cell_type": "code",
   "execution_count": 71,
   "id": "e11f3672",
   "metadata": {},
   "outputs": [],
   "source": [
    "Heart_disease_df['education'].replace(np.nan, Heart_disease_df['education'].mean(), inplace = True)"
   ]
  },
  {
   "cell_type": "code",
   "execution_count": 72,
   "id": "80f5a151",
   "metadata": {},
   "outputs": [
    {
     "data": {
      "text/plain": [
       "male               0\n",
       "age                0\n",
       "education          0\n",
       "currentSmoker      0\n",
       "cigsPerDay         0\n",
       "BPMeds             0\n",
       "prevalentStroke    0\n",
       "prevalentHyp       0\n",
       "diabetes           0\n",
       "totChol            0\n",
       "sysBP              0\n",
       "diaBP              0\n",
       "BMI                0\n",
       "heartRate          0\n",
       "glucose            0\n",
       "TenYearCHD         0\n",
       "dtype: int64"
      ]
     },
     "execution_count": 72,
     "metadata": {},
     "output_type": "execute_result"
    }
   ],
   "source": [
    "Heart_disease_df.isnull().sum()"
   ]
  },
  {
   "cell_type": "markdown",
   "id": "4e837cb1",
   "metadata": {},
   "source": [
    "# Check correlation heatmap for all values"
   ]
  },
  {
   "cell_type": "code",
   "execution_count": 74,
   "id": "c80e3fdb",
   "metadata": {},
   "outputs": [
    {
     "data": {
      "image/png": "[encoded data removed]",
      "text/plain": [
       "<Figure size 1080x720 with 2 Axes>"
      ]
     },
     "metadata": {
      "needs_background": "light"
     },
     "output_type": "display_data"
    }
   ],
   "source": [
    "plt.figure(figsize = (15,10))\n",
    "sns.heatmap(Heart_disease_df.corr(), annot = True, cmap = 'magma')\n",
    "plt.show()"
   ]
  },
  {
   "cell_type": "markdown",
   "id": "ed9ff1f3",
   "metadata": {},
   "source": [
    "# Feature Selection"
   ]
  },
  {
   "cell_type": "code",
   "execution_count": 84,
   "id": "422af3a0",
   "metadata": {},
   "outputs": [],
   "source": [
    "X = Heart_disease_df.drop(['currentSmoker', 'diaBP', 'prevalentHyp', 'sysBP','TenYearCHD'], axis = 1)\n",
    "Y = Heart_disease_df['TenYearCHD']"
   ]
  },
  {
   "cell_type": "markdown",
   "id": "ffbc05e4",
   "metadata": {},
   "source": [
    "# Linear Regression"
   ]
  },
  {
   "cell_type": "code",
   "execution_count": 95,
   "id": "0c6ffcb1",
   "metadata": {},
   "outputs": [],
   "source": [
    "from sklearn.model_selection import train_test_split\n",
    "X_train, X_test, y_train, y_test = train_test_split(X, Y, test_size = 0.3, random_state = 1)"
   ]
  },
  {
   "cell_type": "code",
   "execution_count": 97,
   "id": "5ca3884d",
   "metadata": {},
   "outputs": [
    {
     "data": {
      "text/html": [
       "<div>\n",
       "<style scoped>\n",
       "    .dataframe tbody tr th:only-of-type {\n",
       "        vertical-align: middle;\n",
       "    }\n",
       "\n",
       "    .dataframe tbody tr th {\n",
       "        vertical-align: top;\n",
       "    }\n",
       "\n",
       "    .dataframe thead th {\n",
       "        text-align: right;\n",
       "    }\n",
       "</style>\n",
       "<table border=\"1\" class=\"dataframe\">\n",
       "  <thead>\n",
       "    <tr style=\"text-align: right;\">\n",
       "      <th></th>\n",
       "      <th>0</th>\n",
       "      <th>1</th>\n",
       "      <th>2</th>\n",
       "      <th>3</th>\n",
       "      <th>4</th>\n",
       "      <th>5</th>\n",
       "      <th>6</th>\n",
       "      <th>7</th>\n",
       "      <th>8</th>\n",
       "      <th>9</th>\n",
       "      <th>10</th>\n",
       "    </tr>\n",
       "  </thead>\n",
       "  <tbody>\n",
       "    <tr>\n",
       "      <th>0</th>\n",
       "      <td>1.154814</td>\n",
       "      <td>0.501417</td>\n",
       "      <td>-0.960511</td>\n",
       "      <td>-0.496035</td>\n",
       "      <td>-0.174858</td>\n",
       "      <td>-0.080295</td>\n",
       "      <td>-0.162165</td>\n",
       "      <td>-1.434341</td>\n",
       "      <td>0.107785</td>\n",
       "      <td>-0.090713</td>\n",
       "      <td>-0.583804</td>\n",
       "    </tr>\n",
       "    <tr>\n",
       "      <th>1</th>\n",
       "      <td>-0.865940</td>\n",
       "      <td>2.019926</td>\n",
       "      <td>0.033361</td>\n",
       "      <td>-0.747442</td>\n",
       "      <td>5.785891</td>\n",
       "      <td>-0.080295</td>\n",
       "      <td>-0.162165</td>\n",
       "      <td>1.311572</td>\n",
       "      <td>2.363700</td>\n",
       "      <td>-0.831232</td>\n",
       "      <td>-0.793261</td>\n",
       "    </tr>\n",
       "    <tr>\n",
       "      <th>2</th>\n",
       "      <td>1.154814</td>\n",
       "      <td>-0.900283</td>\n",
       "      <td>-0.960511</td>\n",
       "      <td>1.766628</td>\n",
       "      <td>-0.174858</td>\n",
       "      <td>-0.080295</td>\n",
       "      <td>-0.162165</td>\n",
       "      <td>-0.106399</td>\n",
       "      <td>0.623635</td>\n",
       "      <td>1.143485</td>\n",
       "      <td>-0.081108</td>\n",
       "    </tr>\n",
       "    <tr>\n",
       "      <th>3</th>\n",
       "      <td>1.154814</td>\n",
       "      <td>1.085459</td>\n",
       "      <td>1.027232</td>\n",
       "      <td>-0.747442</td>\n",
       "      <td>-0.174858</td>\n",
       "      <td>-0.080295</td>\n",
       "      <td>-0.162165</td>\n",
       "      <td>-0.016369</td>\n",
       "      <td>0.186767</td>\n",
       "      <td>-1.571751</td>\n",
       "      <td>0.170241</td>\n",
       "    </tr>\n",
       "    <tr>\n",
       "      <th>4</th>\n",
       "      <td>-0.865940</td>\n",
       "      <td>0.618226</td>\n",
       "      <td>-0.960511</td>\n",
       "      <td>-0.747442</td>\n",
       "      <td>-0.174858</td>\n",
       "      <td>-0.080295</td>\n",
       "      <td>-0.162165</td>\n",
       "      <td>0.163690</td>\n",
       "      <td>-0.188396</td>\n",
       "      <td>-0.090713</td>\n",
       "      <td>-0.500021</td>\n",
       "    </tr>\n",
       "  </tbody>\n",
       "</table>\n",
       "</div>"
      ],
      "text/plain": [
       "         0         1         2         3         4         5         6   \\\n",
       "0  1.154814  0.501417 -0.960511 -0.496035 -0.174858 -0.080295 -0.162165   \n",
       "1 -0.865940  2.019926  0.033361 -0.747442  5.785891 -0.080295 -0.162165   \n",
       "2  1.154814 -0.900283 -0.960511  1.766628 -0.174858 -0.080295 -0.162165   \n",
       "3  1.154814  1.085459  1.027232 -0.747442 -0.174858 -0.080295 -0.162165   \n",
       "4 -0.865940  0.618226 -0.960511 -0.747442 -0.174858 -0.080295 -0.162165   \n",
       "\n",
       "         7         8         9         10  \n",
       "0 -1.434341  0.107785 -0.090713 -0.583804  \n",
       "1  1.311572  2.363700 -0.831232 -0.793261  \n",
       "2 -0.106399  0.623635  1.143485 -0.081108  \n",
       "3 -0.016369  0.186767 -1.571751  0.170241  \n",
       "4  0.163690 -0.188396 -0.090713 -0.500021  "
      ]
     },
     "execution_count": 97,
     "metadata": {},
     "output_type": "execute_result"
    }
   ],
   "source": [
    "#Scaling the data\n",
    "from sklearn.preprocessing import StandardScaler\n",
    "sc=StandardScaler()\n",
    "X_train=pd.DataFrame(sc.fit_transform(X_train))\n",
    "X_test=pd.DataFrame(sc.transform(X_test))\n",
    "X_train.head()"
   ]
  },
  {
   "cell_type": "code",
   "execution_count": 98,
   "id": "f6395302",
   "metadata": {},
   "outputs": [
    {
     "data": {
      "text/html": [
       "<div>\n",
       "<style scoped>\n",
       "    .dataframe tbody tr th:only-of-type {\n",
       "        vertical-align: middle;\n",
       "    }\n",
       "\n",
       "    .dataframe tbody tr th {\n",
       "        vertical-align: top;\n",
       "    }\n",
       "\n",
       "    .dataframe thead th {\n",
       "        text-align: right;\n",
       "    }\n",
       "</style>\n",
       "<table border=\"1\" class=\"dataframe\">\n",
       "  <thead>\n",
       "    <tr style=\"text-align: right;\">\n",
       "      <th></th>\n",
       "      <th>male</th>\n",
       "      <th>age</th>\n",
       "      <th>education</th>\n",
       "      <th>cigsPerDay</th>\n",
       "      <th>BPMeds</th>\n",
       "      <th>prevalentStroke</th>\n",
       "      <th>diabetes</th>\n",
       "      <th>totChol</th>\n",
       "      <th>BMI</th>\n",
       "      <th>heartRate</th>\n",
       "      <th>glucose</th>\n",
       "    </tr>\n",
       "  </thead>\n",
       "  <tbody>\n",
       "    <tr>\n",
       "      <th>0</th>\n",
       "      <td>1.154814</td>\n",
       "      <td>0.501417</td>\n",
       "      <td>-0.960511</td>\n",
       "      <td>-0.496035</td>\n",
       "      <td>-0.174858</td>\n",
       "      <td>-0.080295</td>\n",
       "      <td>-0.162165</td>\n",
       "      <td>-1.434341</td>\n",
       "      <td>0.107785</td>\n",
       "      <td>-0.090713</td>\n",
       "      <td>-0.583804</td>\n",
       "    </tr>\n",
       "    <tr>\n",
       "      <th>1</th>\n",
       "      <td>-0.865940</td>\n",
       "      <td>2.019926</td>\n",
       "      <td>0.033361</td>\n",
       "      <td>-0.747442</td>\n",
       "      <td>5.785891</td>\n",
       "      <td>-0.080295</td>\n",
       "      <td>-0.162165</td>\n",
       "      <td>1.311572</td>\n",
       "      <td>2.363700</td>\n",
       "      <td>-0.831232</td>\n",
       "      <td>-0.793261</td>\n",
       "    </tr>\n",
       "    <tr>\n",
       "      <th>2</th>\n",
       "      <td>1.154814</td>\n",
       "      <td>-0.900283</td>\n",
       "      <td>-0.960511</td>\n",
       "      <td>1.766628</td>\n",
       "      <td>-0.174858</td>\n",
       "      <td>-0.080295</td>\n",
       "      <td>-0.162165</td>\n",
       "      <td>-0.106399</td>\n",
       "      <td>0.623635</td>\n",
       "      <td>1.143485</td>\n",
       "      <td>-0.081108</td>\n",
       "    </tr>\n",
       "    <tr>\n",
       "      <th>3</th>\n",
       "      <td>1.154814</td>\n",
       "      <td>1.085459</td>\n",
       "      <td>1.027232</td>\n",
       "      <td>-0.747442</td>\n",
       "      <td>-0.174858</td>\n",
       "      <td>-0.080295</td>\n",
       "      <td>-0.162165</td>\n",
       "      <td>-0.016369</td>\n",
       "      <td>0.186767</td>\n",
       "      <td>-1.571751</td>\n",
       "      <td>0.170241</td>\n",
       "    </tr>\n",
       "    <tr>\n",
       "      <th>4</th>\n",
       "      <td>-0.865940</td>\n",
       "      <td>0.618226</td>\n",
       "      <td>-0.960511</td>\n",
       "      <td>-0.747442</td>\n",
       "      <td>-0.174858</td>\n",
       "      <td>-0.080295</td>\n",
       "      <td>-0.162165</td>\n",
       "      <td>0.163690</td>\n",
       "      <td>-0.188396</td>\n",
       "      <td>-0.090713</td>\n",
       "      <td>-0.500021</td>\n",
       "    </tr>\n",
       "  </tbody>\n",
       "</table>\n",
       "</div>"
      ],
      "text/plain": [
       "       male       age  education  cigsPerDay    BPMeds  prevalentStroke  \\\n",
       "0  1.154814  0.501417  -0.960511   -0.496035 -0.174858        -0.080295   \n",
       "1 -0.865940  2.019926   0.033361   -0.747442  5.785891        -0.080295   \n",
       "2  1.154814 -0.900283  -0.960511    1.766628 -0.174858        -0.080295   \n",
       "3  1.154814  1.085459   1.027232   -0.747442 -0.174858        -0.080295   \n",
       "4 -0.865940  0.618226  -0.960511   -0.747442 -0.174858        -0.080295   \n",
       "\n",
       "   diabetes   totChol       BMI  heartRate   glucose  \n",
       "0 -0.162165 -1.434341  0.107785  -0.090713 -0.583804  \n",
       "1 -0.162165  1.311572  2.363700  -0.831232 -0.793261  \n",
       "2 -0.162165 -0.106399  0.623635   1.143485 -0.081108  \n",
       "3 -0.162165 -0.016369  0.186767  -1.571751  0.170241  \n",
       "4 -0.162165  0.163690 -0.188396  -0.090713 -0.500021  "
      ]
     },
     "execution_count": 98,
     "metadata": {},
     "output_type": "execute_result"
    }
   ],
   "source": [
    "#Reset colmns (Scaling removed column indexes)\n",
    "X_train.columns= X.columns   \n",
    "X_test.columns= X.columns\n",
    "\n",
    "y_train.index= X_train.index\n",
    "y_test.index= X_test.index\n",
    "\n",
    "X_train.head()"
   ]
  },
  {
   "cell_type": "code",
   "execution_count": 99,
   "id": "c3c5d457",
   "metadata": {},
   "outputs": [],
   "source": [
    "from sklearn.linear_model import LogisticRegression\n",
    "logit_model = LogisticRegression(solver = 'lbfgs', C = 1e5, max_iter=1e7, penalty='l2')"
   ]
  },
  {
   "cell_type": "code",
   "execution_count": 100,
   "id": "ef19978c",
   "metadata": {},
   "outputs": [
    {
     "data": {
      "text/plain": [
       "LogisticRegression(C=100000.0, max_iter=10000000.0)"
      ]
     },
     "execution_count": 100,
     "metadata": {},
     "output_type": "execute_result"
    }
   ],
   "source": [
    "logit_model.fit(x_train, y_train)"
   ]
  },
  {
   "cell_type": "code",
   "execution_count": 101,
   "id": "db119dbb",
   "metadata": {},
   "outputs": [
    {
     "data": {
      "text/plain": [
       "0.8663522012578616"
      ]
     },
     "execution_count": 101,
     "metadata": {},
     "output_type": "execute_result"
    }
   ],
   "source": [
    "# Accuracy \n",
    "logit_model.score(x_test, y_test)"
   ]
  },
  {
   "cell_type": "code",
   "execution_count": 102,
   "id": "181badbc",
   "metadata": {},
   "outputs": [
    {
     "data": {
      "text/plain": [
       "0.8442346594740391"
      ]
     },
     "execution_count": 102,
     "metadata": {},
     "output_type": "execute_result"
    }
   ],
   "source": [
    "logit_model.score(x_train, y_train)"
   ]
  },
  {
   "cell_type": "markdown",
   "id": "c0843627",
   "metadata": {},
   "source": [
    "# Classification Metrics\n",
    "* Confusion Matrix\n",
    "* Classification Report"
   ]
  },
  {
   "cell_type": "code",
   "execution_count": 104,
   "id": "e8e6fd73",
   "metadata": {},
   "outputs": [],
   "source": [
    "predictions = logit_model.predict(x_test)"
   ]
  },
  {
   "cell_type": "code",
   "execution_count": 93,
   "id": "3200fdcd",
   "metadata": {},
   "outputs": [
    {
     "data": {
      "text/plain": [
       "<AxesSubplot:>"
      ]
     },
     "execution_count": 93,
     "metadata": {},
     "output_type": "execute_result"
    },
    {
     "data": {
      "image/png": "[encoded data removed]",
      "text/plain": [
       "<Figure size 432x288 with 2 Axes>"
      ]
     },
     "metadata": {
      "needs_background": "light"
     },
     "output_type": "display_data"
    }
   ],
   "source": [
    "sns.heatmap(confusion_matrix(y_test, predictions), annot = True, fmt = '0.0f')"
   ]
  },
  {
   "cell_type": "code",
   "execution_count": 94,
   "id": "1828fe47",
   "metadata": {},
   "outputs": [
    {
     "name": "stdout",
     "output_type": "stream",
     "text": [
      "              precision    recall  f1-score   support\n",
      "\n",
      "           0       0.87      0.99      0.93      1106\n",
      "           1       0.39      0.04      0.08       166\n",
      "\n",
      "    accuracy                           0.87      1272\n",
      "   macro avg       0.63      0.52      0.50      1272\n",
      "weighted avg       0.81      0.87      0.82      1272\n",
      "\n"
     ]
    }
   ],
   "source": [
    "print(classification_report(y_test, predictions))"
   ]
  },
  {
   "cell_type": "code",
   "execution_count": null,
   "id": "2f4a5ebc",
   "metadata": {},
   "outputs": [],
   "source": []
  }
 ],
 "metadata": {
  "kernelspec": {
   "display_name": "Python 3 (ipykernel)",
   "language": "python",
   "name": "python3"
  },
  "language_info": {
   "codemirror_mode": {
    "name": "ipython",
    "version": 3
   },
   "file_extension": ".py",
   "mimetype": "text/x-python",
   "name": "python",
   "nbconvert_exporter": "python",
   "pygments_lexer": "ipython3",
   "version": "3.9.13"
  }
 },
 "nbformat": 4,
 "nbformat_minor": 5
}
